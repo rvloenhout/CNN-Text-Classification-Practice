{
 "cells": [
  {
   "cell_type": "code",
   "execution_count": 2,
   "metadata": {},
   "outputs": [
    {
     "name": "stderr",
     "output_type": "stream",
     "text": [
      "[nltk_data] Downloading package punkt to\n",
      "[nltk_data]     C:\\Users\\ROB7824\\AppData\\Roaming\\nltk_data...\n",
      "[nltk_data]   Package punkt is already up-to-date!\n",
      "[nltk_data] Downloading package stopwords to\n",
      "[nltk_data]     C:\\Users\\ROB7824\\AppData\\Roaming\\nltk_data...\n",
      "[nltk_data]   Package stopwords is already up-to-date!\n"
     ]
    }
   ],
   "source": [
    "import pandas as pd\n",
    "import numpy as np\n",
    "import xgboost as xgb\n",
    "from sklearn.model_selection import RandomizedSearchCV, train_test_split, KFold\n",
    "from sklearn.feature_extraction.text import TfidfVectorizer\n",
    "from sklearn.metrics import accuracy_score, classification_report, confusion_matrix\n",
    "import seaborn as sns\n",
    "import matplotlib.pyplot as plt\n",
    "import joblib\n",
    "from utils import preprocess_text"
   ]
  },
  {
   "cell_type": "code",
   "execution_count": 3,
   "metadata": {},
   "outputs": [],
   "source": [
    "text_df = pd.read_csv(\"./df_file.csv\")\n",
    "\n",
    "X = text_df['Text']\n",
    "y = text_df['Label']\n",
    "\n",
    "X_preprocessed = [preprocess_text(text) for text in X]\n",
    "\n",
    "X_train, X_test, y_train, y_test = train_test_split(  X_preprocessed\n",
    "                                                    , y\n",
    "                                                    , test_size=0.2\n",
    "                                                    , random_state=42)"
   ]
  },
  {
   "cell_type": "code",
   "execution_count": 4,
   "metadata": {},
   "outputs": [],
   "source": [
    "# Convert text data to TF-IDF features\n",
    "vectorizer = TfidfVectorizer(max_features=5000, stop_words='english')\n",
    "X_train_tfidf = vectorizer.fit_transform(X_train)\n",
    "X_test_tfidf = vectorizer.transform(X_test)"
   ]
  },
  {
   "cell_type": "code",
   "execution_count": 5,
   "metadata": {},
   "outputs": [
    {
     "data": {
      "text/plain": [
       "['./vectorizer.pkl']"
      ]
     },
     "execution_count": 5,
     "metadata": {},
     "output_type": "execute_result"
    }
   ],
   "source": [
    "#Export vectorizer\n",
    "joblib.dump(vectorizer, \"./vectorizer.pkl\")"
   ]
  },
  {
   "cell_type": "code",
   "execution_count": 9,
   "metadata": {},
   "outputs": [],
   "source": [
    "# Define the XGBoost model for text classification\n",
    "xgb_model = xgb.XGBClassifier(objective='multi:softmax', num_class=len(set(y)), random_state=42) #, tree_method = \"hist\", device = \"cuda\""
   ]
  },
  {
   "cell_type": "code",
   "execution_count": 10,
   "metadata": {},
   "outputs": [],
   "source": [
    "# Define the hyperparameter grid for random search\n",
    "param_grid = {\n",
    "    'n_estimators': [100, 200, 300, 400, 500],\n",
    "    'learning_rate': [0.01, 0.1, 0.2, 0.3],\n",
    "    'max_depth': [3, 4, 5, 6, 7, 8, 9, 10],\n",
    "    'subsample': [0.6, 0.7, 0.8, 0.9, 1.0],\n",
    "    'colsample_bytree': [0.6, 0.7, 0.8, 0.9, 1.0],\n",
    "    'gamma': [0, 0.1, 0.2, 0.3, 0.4],\n",
    "    'min_child_weight': [1, 2, 3, 4, 5]\n",
    "}"
   ]
  },
  {
   "cell_type": "code",
   "execution_count": 11,
   "metadata": {},
   "outputs": [],
   "source": [
    "kf = KFold(n_splits=5, shuffle=True, random_state=42)"
   ]
  },
  {
   "cell_type": "code",
   "execution_count": 12,
   "metadata": {},
   "outputs": [],
   "source": [
    "# Initialize RandomizedSearchCV\n",
    "random_search = RandomizedSearchCV(  estimator=xgb_model\n",
    "                                   , param_distributions=param_grid\n",
    "                                   , n_iter=10\n",
    "                                   , scoring='accuracy'\n",
    "                                   , cv=kf\n",
    "                                   , verbose=2\n",
    "                                   , random_state=42\n",
    "                                   , n_jobs=-1)"
   ]
  },
  {
   "cell_type": "code",
   "execution_count": 13,
   "metadata": {},
   "outputs": [
    {
     "name": "stdout",
     "output_type": "stream",
     "text": [
      "Fitting 5 folds for each of 10 candidates, totalling 50 fits\n",
      "Best Hyperparameters: {'subsample': 0.6, 'n_estimators': 400, 'min_child_weight': 1, 'max_depth': 5, 'learning_rate': 0.2, 'gamma': 0.1, 'colsample_bytree': 0.6}\n"
     ]
    }
   ],
   "source": [
    "# Fit the model with random search using TF-IDF features\n",
    "# Average runtime: 8 minutes\n",
    "random_search.fit(X_train_tfidf, y_train)\n",
    "\n",
    "print(\"Best Hyperparameters:\", random_search.best_params_)"
   ]
  },
  {
   "cell_type": "code",
   "execution_count": 17,
   "metadata": {},
   "outputs": [
    {
     "data": {
      "text/plain": [
       "['./xgboost.pkl']"
      ]
     },
     "execution_count": 17,
     "metadata": {},
     "output_type": "execute_result"
    }
   ],
   "source": [
    "#Export model\n",
    "joblib.dump(random_search, \"./xgboost.pkl\")"
   ]
  },
  {
   "cell_type": "code",
   "execution_count": 14,
   "metadata": {},
   "outputs": [],
   "source": [
    "# Make predictions on the test set using the best model\n",
    "y_pred = random_search.best_estimator_.predict(X_test_tfidf)"
   ]
  },
  {
   "cell_type": "code",
   "execution_count": 15,
   "metadata": {},
   "outputs": [
    {
     "name": "stdout",
     "output_type": "stream",
     "text": [
      "Accuracy on Test Set: 0.9640449438202248\n",
      "Classification Report:\n",
      "               precision    recall  f1-score   support\n",
      "\n",
      "           0       0.97      0.95      0.96        92\n",
      "           1       0.97      0.99      0.98        98\n",
      "           2       0.96      0.96      0.96        77\n",
      "           3       0.96      0.96      0.96        76\n",
      "           4       0.96      0.96      0.96       102\n",
      "\n",
      "    accuracy                           0.96       445\n",
      "   macro avg       0.96      0.96      0.96       445\n",
      "weighted avg       0.96      0.96      0.96       445\n",
      "\n"
     ]
    }
   ],
   "source": [
    "# Evaluate the model\n",
    "accuracy = accuracy_score(y_test, y_pred)\n",
    "print(\"Accuracy on Test Set:\", accuracy)\n",
    "\n",
    "# Additional evaluation metrics (classification report)\n",
    "print(\"Classification Report:\\n\", classification_report(y_test, y_pred))"
   ]
  },
  {
   "cell_type": "code",
   "execution_count": 16,
   "metadata": {},
   "outputs": [
    {
     "name": "stdout",
     "output_type": "stream",
     "text": [
      "[[87  2  2  1  0]\n",
      " [ 0 97  0  0  1]\n",
      " [ 0  0 74  1  2]\n",
      " [ 1  1  0 73  1]\n",
      " [ 2  0  1  1 98]]\n"
     ]
    },
    {
     "data": {
      "image/png": "[encoded data removed]",
      "text/plain": [
       "<Figure size 1000x800 with 2 Axes>"
      ]
     },
     "metadata": {},
     "output_type": "display_data"
    }
   ],
   "source": [
    "cm = confusion_matrix(y_test, y_pred)\n",
    "print(cm)\n",
    "\n",
    "plt.figure(figsize=(10, 8))\n",
    "sns.heatmap(cm, annot=True, fmt='d', cmap='Blues')\n",
    "plt.xlabel('Predicted')\n",
    "plt.ylabel('Actual')\n",
    "plt.title('Confusion Matrix')\n",
    "plt.show()"
   ]
  },
  {
   "cell_type": "code",
   "execution_count": 14,
   "metadata": {},
   "outputs": [],
   "source": [
    "# Extract indices of misclassified instances\n",
    "misclassified_indices = [i for i, (true_label, pred_label) in enumerate(zip(y_test, y_pred)) if true_label != pred_label]\n",
    "\n",
    "# Extract misclassified instances\n",
    "misclassified_data = text_df.iloc[misclassified_indices].copy()\n",
    "misclassified_data['Predicted Label'] = y_pred[misclassified_indices]"
   ]
  },
  {
   "cell_type": "code",
   "execution_count": 15,
   "metadata": {},
   "outputs": [
    {
     "name": "stdout",
     "output_type": "stream",
     "text": [
      "Misclassified Instances:\n",
      "                                                  Text  Label  Predicted Label\n",
      "4    Kilroy names election seat target\\r\\n \\r\\n Ex-...      0                3\n",
      "24   'Hitler' row over Welsh arts cash\\r\\n \\r\\n An ...      0                1\n",
      "59   Blair backs 'pre-election budget'\\r\\n \\r\\n Ton...      0                2\n",
      "85   What the election should really be about?\\r\\n ...      0                0\n",
      "153  Labour targets 'hardcore truants'\\r\\n \\r\\n A f...      0                2\n",
      "228  Taxes must be trusted - Kennedy\\r\\n \\r\\n Publi...      0                2\n",
      "231  Sayeed to stand down as Tory MP\\r\\n \\r\\n Tory ...      0                1\n",
      "235  Borders rail link campaign rally\\r\\n \\r\\n Camp...      0                0\n",
      "306  Straw to attend Auschwitz service\\r\\n \\r\\n For...      0                1\n",
      "310  Former NI minister Scott dies\\r\\n \\r\\n Former ...      0                0\n",
      "318  Blair looks to election campaign\\r\\n \\r\\n Tony...      0                4\n",
      "322  Wales 'must learn health lessons'\\r\\n \\r\\n The...      0                3\n",
      "368  Brown names 16 March for Budget\\r\\n \\r\\n Chanc...      0                4\n",
      "384  TV debate urged for party chiefs\\r\\n \\r\\n Broa...      0                3\n",
      "421  Officials respond in court row\\r\\n \\r\\n Austra...      1                4\n",
      "442  Umaga ready for Lions\\r\\n \\r\\n All Blacks capt...      1                4\n"
     ]
    }
   ],
   "source": [
    "# Display misclassified instances\n",
    "print(\"Misclassified Instances:\")\n",
    "print(misclassified_data[['Text', 'Label', 'Predicted Label']])"
   ]
  },
  {
   "cell_type": "code",
   "execution_count": 16,
   "metadata": {},
   "outputs": [
    {
     "name": "stdout",
     "output_type": "stream",
     "text": [
      "Sample 1:\n",
      "  Prediction: Sport\n",
      "  Confidence Score: 0.53\n",
      "\n",
      "Sample 2:\n",
      "  Prediction: Sport\n",
      "  Confidence Score: 0.53\n",
      "\n",
      "Sample 3:\n",
      "  Prediction: Sport\n",
      "  Confidence Score: 0.53\n",
      "\n",
      "Sample 4:\n",
      "  Prediction: Sport\n",
      "  Confidence Score: 0.53\n",
      "\n",
      "Sample 5:\n",
      "  Prediction: Sport\n",
      "  Confidence Score: 0.53\n",
      "\n",
      "Sample 6:\n",
      "  Prediction: Sport\n",
      "  Confidence Score: 0.59\n",
      "\n",
      "Sample 7:\n",
      "  Prediction: Sport\n",
      "  Confidence Score: 0.53\n",
      "\n",
      "Sample 8:\n",
      "  Prediction: Sport\n",
      "  Confidence Score: 0.53\n",
      "\n",
      "Sample 9:\n",
      "  Prediction: Sport\n",
      "  Confidence Score: 0.53\n",
      "\n",
      "Sample 10:\n",
      "  Prediction: Sport\n",
      "  Confidence Score: 0.53\n",
      "\n",
      "Sample 11:\n",
      "  Prediction: Sport\n",
      "  Confidence Score: 0.53\n",
      "\n",
      "Sample 12:\n",
      "  Prediction: Sport\n",
      "  Confidence Score: 0.50\n",
      "\n",
      "Sample 13:\n",
      "  Prediction: Sport\n",
      "  Confidence Score: 0.53\n",
      "\n",
      "Sample 14:\n",
      "  Prediction: Sport\n",
      "  Confidence Score: 0.53\n",
      "\n",
      "Sample 15:\n",
      "  Prediction: Sport\n",
      "  Confidence Score: 0.53\n",
      "\n",
      "Sample 16:\n",
      "  Prediction: Sport\n",
      "  Confidence Score: 0.53\n",
      "\n",
      "Sample 17:\n",
      "  Prediction: Sport\n",
      "  Confidence Score: 0.53\n",
      "\n",
      "Sample 18:\n",
      "  Prediction: Sport\n",
      "  Confidence Score: 0.53\n",
      "\n",
      "Sample 19:\n",
      "  Prediction: Sport\n",
      "  Confidence Score: 0.53\n",
      "\n",
      "Sample 20:\n",
      "  Prediction: Sport\n",
      "  Confidence Score: 0.53\n",
      "\n",
      "Sample 21:\n",
      "  Prediction: Sport\n",
      "  Confidence Score: 0.53\n",
      "\n",
      "Sample 22:\n",
      "  Prediction: Sport\n",
      "  Confidence Score: 0.51\n",
      "\n",
      "Sample 23:\n",
      "  Prediction: Sport\n",
      "  Confidence Score: 0.53\n",
      "\n",
      "Sample 24:\n",
      "  Prediction: Sport\n",
      "  Confidence Score: 0.53\n",
      "\n",
      "Sample 25:\n",
      "  Prediction: Sport\n",
      "  Confidence Score: 0.42\n",
      "\n",
      "Sample 26:\n",
      "  Prediction: Sport\n",
      "  Confidence Score: 0.53\n",
      "\n",
      "Sample 27:\n",
      "  Prediction: Sport\n",
      "  Confidence Score: 0.53\n",
      "\n",
      "Sample 28:\n",
      "  Prediction: Sport\n",
      "  Confidence Score: 0.51\n",
      "\n",
      "Sample 29:\n",
      "  Prediction: Sport\n",
      "  Confidence Score: 0.53\n",
      "\n",
      "Sample 30:\n",
      "  Prediction: Sport\n",
      "  Confidence Score: 0.53\n",
      "\n",
      "Sample 31:\n",
      "  Prediction: Sport\n",
      "  Confidence Score: 0.52\n",
      "\n",
      "Sample 32:\n",
      "  Prediction: Sport\n",
      "  Confidence Score: 0.53\n",
      "\n",
      "Sample 33:\n",
      "  Prediction: Sport\n",
      "  Confidence Score: 0.53\n",
      "\n",
      "Sample 34:\n",
      "  Prediction: Sport\n",
      "  Confidence Score: 0.53\n",
      "\n",
      "Sample 35:\n",
      "  Prediction: Sport\n",
      "  Confidence Score: 0.53\n",
      "\n",
      "Sample 36:\n",
      "  Prediction: Sport\n",
      "  Confidence Score: 0.51\n",
      "\n",
      "Sample 37:\n",
      "  Prediction: Sport\n",
      "  Confidence Score: 0.53\n",
      "\n",
      "Sample 38:\n",
      "  Prediction: Sport\n",
      "  Confidence Score: 0.53\n",
      "\n",
      "Sample 39:\n",
      "  Prediction: Sport\n",
      "  Confidence Score: 0.53\n",
      "\n",
      "Sample 40:\n",
      "  Prediction: Sport\n",
      "  Confidence Score: 0.53\n",
      "\n",
      "Sample 41:\n",
      "  Prediction: Sport\n",
      "  Confidence Score: 0.51\n",
      "\n",
      "Sample 42:\n",
      "  Prediction: Sport\n",
      "  Confidence Score: 0.53\n",
      "\n",
      "Sample 43:\n",
      "  Prediction: Sport\n",
      "  Confidence Score: 0.53\n",
      "\n",
      "Sample 44:\n",
      "  Prediction: Sport\n",
      "  Confidence Score: 0.53\n",
      "\n",
      "Sample 45:\n",
      "  Prediction: Sport\n",
      "  Confidence Score: 0.53\n",
      "\n",
      "Sample 46:\n",
      "  Prediction: Sport\n",
      "  Confidence Score: 0.53\n",
      "\n",
      "Sample 47:\n",
      "  Prediction: Sport\n",
      "  Confidence Score: 0.53\n",
      "\n",
      "Sample 48:\n",
      "  Prediction: Sport\n",
      "  Confidence Score: 0.51\n",
      "\n",
      "Sample 49:\n",
      "  Prediction: Sport\n",
      "  Confidence Score: 0.53\n",
      "\n",
      "Sample 50:\n",
      "  Prediction: Sport\n",
      "  Confidence Score: 0.47\n",
      "\n"
     ]
    }
   ],
   "source": [
    "# Load pre-trained XGBoost model\n",
    "xgb_model = joblib.load(\"./xgboost.pkl\")\n",
    "\n",
    "# Load TF-IDF vectorizer\n",
    "vectorizer = joblib.load(\"./vectorizer.pkl\")\n",
    "\n",
    "# Load test data\n",
    "test_df = pd.read_csv(\"./TestDataUnseen.csv\", delimiter=';')\n",
    "\n",
    "# Transform text data using the TF-IDF vectorizer\n",
    "text_tfidf = vectorizer.transform(test_df[\"Text\"])\n",
    "\n",
    "# Get predictions and confidence scores\n",
    "predictions = xgb_model.predict(text_tfidf)\n",
    "confidence_scores = xgb_model.predict_proba(text_tfidf)\n",
    "\n",
    "# Define labels\n",
    "labels = [\"Politics\", \"Sport\", \"Technology\", \"Entertainment\", \"Business\"]\n",
    "\n",
    "# Format and print the results\n",
    "for i, (prediction, confidence_score) in enumerate(zip(predictions, confidence_scores)):\n",
    "    label = labels[prediction]\n",
    "    confidence = confidence_score[prediction]\n",
    "    print(f\"Sample {i+1}:\")\n",
    "    print(f\"  Prediction: {label}\")\n",
    "    print(f\"  Confidence Score: {confidence:.2f}\")\n",
    "    print()"
   ]
  }
 ],
 "metadata": {
  "kernelspec": {
   "display_name": "Python 3",
   "language": "python",
   "name": "python3"
  },
  "language_info": {
   "codemirror_mode": {
    "name": "ipython",
    "version": 3
   },
   "file_extension": ".py",
   "mimetype": "text/x-python",
   "name": "python",
   "nbconvert_exporter": "python",
   "pygments_lexer": "ipython3",
   "version": "3.10.10"
  }
 },
 "nbformat": 4,
 "nbformat_minor": 2
}
