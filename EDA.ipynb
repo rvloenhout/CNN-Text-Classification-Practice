{
 "cells": [
  {
   "cell_type": "code",
   "execution_count": null,
   "metadata": {},
   "outputs": [],
   "source": [
    "X_train_W2C = pd.DataFrame(X_train, columns=['Text'])\n",
    "\n",
    "cnt = Counter()\n",
    "for text in X_train_W2C['Text'].values:\n",
    "    for word in text.split():\n",
    "        cnt[word] += 1\n",
    "        \n",
    "cnt.most_common(20)"
   ]
  },
  {
   "cell_type": "code",
   "execution_count": null,
   "metadata": {},
   "outputs": [],
   "source": [
    "from collections import Counter\n",
    "cnt = Counter()\n",
    "for text in X_train['Text'].values:\n",
    "    for word in text.split():\n",
    "        cnt[word] += 1\n",
    "        \n",
    "cnt.most_common(10)"
   ]
  },
  {
   "cell_type": "code",
   "execution_count": null,
   "metadata": {},
   "outputs": [],
   "source": [
    "# Decoding Tokenized Text\n",
    "decoded_texts = [tokenizer.decode(entry['input_ids'], skip_special_tokens=True) for entry in X_train]\n",
    "readable_text = pd.DataFrame(decoded_texts, columns=['Text'])\n",
    "\n",
    "# Checking most frequent Bi-grams\n",
    "cv2 = CountVectorizer(ngram_range=(2,2))\n",
    "bigrams = cv2.fit_transform(readable_text['Text'])\n",
    "\n",
    "count_values = bigrams.toarray().sum(axis=0)\n",
    "ngram_freq = pd.DataFrame(sorted([(count_values[i], k) for k, i in cv2.vocabulary_.items()], reverse = True))\n",
    "ngram_freq.columns = [\"frequency\", \"ngram\"]\n",
    "\n",
    "sns.barplot(x=ngram_freq['frequency'][:10], y=ngram_freq['ngram'][:10])\n",
    "plt.title('Top 10 Most Frequently Occuring Bigrams')\n",
    "plt.show()"
   ]
  },
  {
   "cell_type": "code",
   "execution_count": null,
   "metadata": {},
   "outputs": [],
   "source": [
    "# Checking most frequent Tri-grams\n",
    "cv3 = CountVectorizer(ngram_range=(3,3))\n",
    "trigrams  = cv3.fit_transform(readable_text['Text'])\n",
    "\n",
    "count_values = trigrams .toarray().sum(axis=0)\n",
    "ngram_freq = pd.DataFrame(sorted([(count_values[i], k) for k, i in cv3.vocabulary_.items()], reverse = True))\n",
    "ngram_freq.columns = [\"frequency\", \"ngram\"]\n",
    "\n",
    "sns.barplot(x=ngram_freq['frequency'][:10], y=ngram_freq['ngram'][:10])\n",
    "plt.title('Top 10 Most Frequently Occuring Trigrams')\n",
    "plt.show()"
   ]
  },
  {
   "cell_type": "code",
   "execution_count": null,
   "metadata": {},
   "outputs": [],
   "source": [
    "# Assuming X_test is a dictionary with 'input_ids' key\n",
    "readable_text = tokenizer.decode(X_test[10]['input_ids'], skip_special_tokens=True)\n",
    "print(readable_text)"
   ]
  }
 ],
 "metadata": {
  "language_info": {
   "name": "python"
  }
 },
 "nbformat": 4,
 "nbformat_minor": 2
}
