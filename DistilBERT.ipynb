{
 "cells": [
  {
   "cell_type": "markdown",
   "metadata": {},
   "source": [
    "# DistilBERT Model Training and Evaluation"
   ]
  },
  {
   "cell_type": "markdown",
   "metadata": {},
   "source": [
    "## 0 - Import require Packages and Functions"
   ]
  },
  {
   "cell_type": "code",
   "execution_count": 12,
   "metadata": {},
   "outputs": [],
   "source": [
    "import pandas as pd\n",
    "from sklearn.model_selection import train_test_split\n",
    "from sklearn.metrics import classification_report, confusion_matrix, accuracy_score\n",
    "import matplotlib.pyplot as plt\n",
    "import seaborn as sns\n",
    "from transformers import DistilBertTokenizer, DistilBertForSequenceClassification, Trainer, TrainingArguments\n",
    "import torch\n",
    "from torch.utils.data import DataLoader\n",
    "from utils import preprocess_text, TextDataset"
   ]
  },
  {
   "cell_type": "markdown",
   "metadata": {},
   "source": [
    "## 1- Loading, Preprocessing and Splitting the data into Training / Validation / Test sets (70/15/15)"
   ]
  },
  {
   "cell_type": "code",
   "execution_count": 9,
   "metadata": {},
   "outputs": [],
   "source": [
    "text_df = pd.read_csv(\"./df_file.csv\") #./df_file.csv, /content/drive/MyDrive/df_file.csv\n",
    "\n",
    "texts = text_df['Text'].to_list()\n",
    "labels = text_df['Label'].to_list()\n",
    "\n",
    "# Preprocess your texts here\n",
    "preprocessed_texts = [preprocess_text(text) for text in texts]\n",
    "\n",
    "# Split into train and remaining (validation + test)\n",
    "train_texts, remaining_texts, train_labels, remaining_labels = train_test_split(\n",
    "    preprocessed_texts, labels, test_size=0.3, random_state=43, stratify=labels)\n",
    "\n",
    "# Split the remaining data equally into validation and test sets\n",
    "val_texts, test_texts, val_labels, test_labels = train_test_split(\n",
    "    remaining_texts, remaining_labels, test_size=0.5, random_state=43, stratify=remaining_labels)\n",
    "\n",
    "#from transformers import set_seed\n",
    "\n",
    "#set_seed(42)"
   ]
  },
  {
   "cell_type": "markdown",
   "metadata": {},
   "source": [
    "## 2 - Tokenizing the data and Training the DistilBERT Model"
   ]
  },
  {
   "cell_type": "code",
   "execution_count": 6,
   "metadata": {},
   "outputs": [
    {
     "name": "stderr",
     "output_type": "stream",
     "text": [
      "Some weights of DistilBertForSequenceClassification were not initialized from the model checkpoint at distilbert-base-uncased and are newly initialized: ['classifier.bias', 'classifier.weight', 'pre_classifier.bias', 'pre_classifier.weight']\n",
      "You should probably TRAIN this model on a down-stream task to be able to use it for predictions and inference.\n",
      "100%|██████████| 294/294 [2:15:23<00:00, 27.63s/it]  "
     ]
    },
    {
     "name": "stdout",
     "output_type": "stream",
     "text": [
      "{'train_runtime': 8123.6353, 'train_samples_per_second': 0.575, 'train_steps_per_second': 0.036, 'train_loss': 0.6275762441206951, 'epoch': 3.0}\n"
     ]
    },
    {
     "name": "stderr",
     "output_type": "stream",
     "text": [
      "\n"
     ]
    },
    {
     "data": {
      "text/plain": [
       "TrainOutput(global_step=294, training_loss=0.6275762441206951, metrics={'train_runtime': 8123.6353, 'train_samples_per_second': 0.575, 'train_steps_per_second': 0.036, 'total_flos': 618788322984960.0, 'train_loss': 0.6275762441206951, 'epoch': 3.0})"
      ]
     },
     "execution_count": 6,
     "metadata": {},
     "output_type": "execute_result"
    }
   ],
   "source": [
    "# Load the DistilBert tokenizer\n",
    "tokenizer = DistilBertTokenizer.from_pretrained('distilbert-base-uncased')\n",
    "\n",
    "# Encode the text data\n",
    "train_encodings = tokenizer(train_texts, truncation=True, padding=True)\n",
    "val_encodings = tokenizer(val_texts, truncation=True, padding=True)\n",
    "\n",
    "# Create the dataset objects\n",
    "train_dataset = TextDataset(train_encodings, train_labels)\n",
    "val_dataset = TextDataset(val_encodings, val_labels)\n",
    "\n",
    "# Load the DistilBert model\n",
    "model = DistilBertForSequenceClassification.from_pretrained('distilbert-base-uncased', num_labels=5)\n",
    "\n",
    "# Define the training arguments\n",
    "training_args = TrainingArguments(\n",
    "    #output_dir='./results',          # output directory\n",
    "    num_train_epochs=3,              # total number of training epochs\n",
    "    per_device_train_batch_size=16,  # batch size per device during training\n",
    "    per_device_eval_batch_size=64,   # batch size for evaluation\n",
    "    warmup_steps=500,                # number of warmup steps for learning rate scheduler\n",
    "    weight_decay=0.01,               # strength of weight decay\n",
    "    #logging_dir='./logs',            # directory for storing logs\n",
    "    #logging_steps=10,\n",
    "    seed=42\n",
    ")\n",
    "\n",
    "# Initialize the Trainer\n",
    "trainer = Trainer(\n",
    "    model=model,\n",
    "    args=training_args,\n",
    "    train_dataset=train_dataset,\n",
    "    eval_dataset=val_dataset\n",
    ")\n",
    "\n",
    "# Train the model\n",
    "trainer.train()"
   ]
  },
  {
   "cell_type": "markdown",
   "metadata": {},
   "source": [
    "## 3 - Saving the Trained Tokenizer and Model for future use"
   ]
  },
  {
   "cell_type": "code",
   "execution_count": 7,
   "metadata": {},
   "outputs": [
    {
     "data": {
      "text/plain": [
       "('..\\\\Models\\\\my_distilbert_tokenizer\\\\tokenizer_config.json',\n",
       " '..\\\\Models\\\\my_distilbert_tokenizer\\\\special_tokens_map.json',\n",
       " '..\\\\Models\\\\my_distilbert_tokenizer\\\\vocab.txt',\n",
       " '..\\\\Models\\\\my_distilbert_tokenizer\\\\added_tokens.json')"
      ]
     },
     "execution_count": 7,
     "metadata": {},
     "output_type": "execute_result"
    }
   ],
   "source": [
    "# Save the model and tokenizer to a directory\n",
    "model.save_pretrained('..\\Models\\my_distilbert_model')\n",
    "tokenizer.save_pretrained('..\\Models\\my_distilbert_tokenizer')"
   ]
  },
  {
   "cell_type": "markdown",
   "metadata": {},
   "source": [
    "## 4 - Evaluating the Model using the Test data"
   ]
  },
  {
   "cell_type": "code",
   "execution_count": 10,
   "metadata": {},
   "outputs": [
    {
     "name": "stdout",
     "output_type": "stream",
     "text": [
      "              precision    recall  f1-score   support\n",
      "\n",
      "           0       0.91      1.00      0.95        63\n",
      "           1       0.97      1.00      0.99        77\n",
      "           2       1.00      0.93      0.97        60\n",
      "           3       0.98      0.98      0.98        58\n",
      "           4       0.97      0.92      0.95        76\n",
      "\n",
      "    accuracy                           0.97       334\n",
      "   macro avg       0.97      0.97      0.97       334\n",
      "weighted avg       0.97      0.97      0.97       334\n",
      "\n"
     ]
    }
   ],
   "source": [
    "# test_df = pd.read_csv(\"./TestDataUnseen.csv\", delimiter=';') #./df_file.csv, /content/drive/MyDrive/df_file.csv\n",
    "\n",
    "# texts = test_df['Text'].to_list()\n",
    "# test_labels = test_df['Label'].to_list()\n",
    "\n",
    "# test_texts = [preprocess_text(text) for text in texts]\n",
    "\n",
    "# Load the model and tokenizer from the saved directory\n",
    "model = DistilBertForSequenceClassification.from_pretrained('..\\Models\\my_distilbert_model')\n",
    "tokenizer = DistilBertTokenizer.from_pretrained('..\\Models\\my_distilbert_tokenizer')\n",
    "\n",
    "test_encodings = tokenizer(test_texts, truncation=True, padding=True)\n",
    "test_dataset = TextDataset(test_encodings, test_labels)\n",
    "\n",
    "# Load the data into a DataLoader for batch processing\n",
    "test_loader = DataLoader(test_dataset, batch_size=16, shuffle=False)\n",
    "\n",
    "# Put the model in evaluation mode\n",
    "model.eval()\n",
    "\n",
    "# Initialize a list to store predictions\n",
    "predictions = []\n",
    "\n",
    "# Disable gradient calculations for efficiency\n",
    "with torch.no_grad():\n",
    "    for batch in test_loader:\n",
    "        # Forward pass, get the logits\n",
    "        outputs = model(**batch)\n",
    "        logits = outputs.logits\n",
    "        \n",
    "        # Convert logits to probabilities\n",
    "        probs = torch.nn.functional.softmax(logits, dim=1)\n",
    "        \n",
    "        # Get the predicted class labels\n",
    "        preds = torch.argmax(probs, dim=1)\n",
    "        \n",
    "        # Store the predictions\n",
    "        predictions.extend(preds.tolist())\n",
    "\n",
    "report = classification_report(test_labels, predictions) \n",
    "print(report)"
   ]
  },
  {
   "cell_type": "code",
   "execution_count": 13,
   "metadata": {},
   "outputs": [
    {
     "name": "stdout",
     "output_type": "stream",
     "text": [
      "Accuracy on Test Set: 0.9670658682634731\n"
     ]
    }
   ],
   "source": [
    "accuracy = accuracy_score(test_labels, predictions)\n",
    "print(\"Accuracy on Test Set:\", accuracy)"
   ]
  },
  {
   "cell_type": "code",
   "execution_count": 11,
   "metadata": {},
   "outputs": [
    {
     "data": {
      "image/png": "[encoded data removed]",
      "text/plain": [
       "<Figure size 800x600 with 1 Axes>"
      ]
     },
     "metadata": {},
     "output_type": "display_data"
    }
   ],
   "source": [
    "confusion = confusion_matrix(test_labels, predictions)\n",
    "plt.figure(figsize=(8, 6))\n",
    "sns.set(font_scale=1.2)\n",
    "sns.heatmap(confusion, annot=True, fmt=\"d\", cmap=\"Blues\", cbar=False, square=True,\n",
    "xticklabels=[\"Polictics\", \"Sport\", \"Technology\", \"Entertainment\", \"Business\"], yticklabels=[\"Polictics\", \"Sport\", \"Technology\", \"Entertainment\", \"Business\"])\n",
    "plt.xlabel('Predicted')\n",
    "plt.ylabel('True')\n",
    "plt.title('Confusion Matrix')\n",
    "plt.show()"
   ]
  }
 ],
 "metadata": {
  "kernelspec": {
   "display_name": "Python 3",
   "language": "python",
   "name": "python3"
  },
  "language_info": {
   "codemirror_mode": {
    "name": "ipython",
    "version": 3
   },
   "file_extension": ".py",
   "mimetype": "text/x-python",
   "name": "python",
   "nbconvert_exporter": "python",
   "pygments_lexer": "ipython3",
   "version": "3.10.10"
  }
 },
 "nbformat": 4,
 "nbformat_minor": 2
}
