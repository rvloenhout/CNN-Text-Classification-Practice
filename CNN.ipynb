{
 "cells": [
  {
   "cell_type": "code",
   "execution_count": 7,
   "metadata": {},
   "outputs": [],
   "source": [
    "import pandas as pd \n",
    "import numpy as np \n",
    "import tensorflow as tf\n",
    "\n",
    "from keras.models import Sequential\n",
    "from keras.layers import Embedding, Conv1D, GlobalMaxPooling1D, Dense\n",
    "from keras.preprocessing.text import Tokenizer\n",
    "from keras.utils import pad_sequences\n",
    "from sklearn.model_selection import train_test_split\n",
    "from sklearn.preprocessing import LabelEncoder\n",
    "from sklearn.metrics import classification_report"
   ]
  },
  {
   "cell_type": "code",
   "execution_count": 2,
   "metadata": {},
   "outputs": [],
   "source": [
    "text_df = pd.read_csv(\"./df_file.csv\")\n",
    "\n",
    "X = text_df['Text'].tolist()\n",
    "y = text_df['Label'].tolist()\n",
    "# X = text_df.loc[:, text_df.columns != \"Label\"]\n",
    "# y = text_df[\"Label\"]\n",
    "\n",
    "X_train, X_test, y_train, y_test = train_test_split(X, y, test_size=0.2, random_state=42, stratify=y)"
   ]
  },
  {
   "cell_type": "code",
   "execution_count": 4,
   "metadata": {},
   "outputs": [],
   "source": [
    "# Tokenize the text (fit on training data only)\n",
    "max_words = 10000\n",
    "tokenizer = Tokenizer(num_words=max_words)\n",
    "tokenizer.fit_on_texts(X_train)\n",
    "\n",
    "# Convert text to sequences\n",
    "X_train = tokenizer.texts_to_sequences(X_train)\n",
    "X_test = tokenizer.texts_to_sequences(X_test)"
   ]
  },
  {
   "cell_type": "code",
   "execution_count": 8,
   "metadata": {},
   "outputs": [],
   "source": [
    "# Pad sequences to have consistent length\n",
    "max_len = 100  # You can adjust this based on your dataset\n",
    "X_train = pad_sequences(X_train, maxlen=max_len)\n",
    "X_test = pad_sequences(X_test, maxlen=max_len)"
   ]
  },
  {
   "cell_type": "code",
   "execution_count": 14,
   "metadata": {},
   "outputs": [],
   "source": [
    "# Convert labels to NumPy arrays\n",
    "y_train = np.array(y_train)\n",
    "y_test = np.array(y_test)"
   ]
  },
  {
   "cell_type": "code",
   "execution_count": 21,
   "metadata": {},
   "outputs": [
    {
     "name": "stdout",
     "output_type": "stream",
     "text": [
      "Model: \"sequential_1\"\n",
      "_________________________________________________________________\n",
      " Layer (type)                Output Shape              Param #   \n",
      "=================================================================\n",
      " embedding_1 (Embedding)     (None, 100, 50)           500000    \n",
      "                                                                 \n",
      " conv1d_1 (Conv1D)           (None, 96, 128)           32128     \n",
      "                                                                 \n",
      " global_max_pooling1d_1 (Glo  (None, 128)              0         \n",
      " balMaxPooling1D)                                                \n",
      "                                                                 \n",
      " dense_2 (Dense)             (None, 64)                8256      \n",
      "                                                                 \n",
      " dense_3 (Dense)             (None, 5)                 325       \n",
      "                                                                 \n",
      "=================================================================\n",
      "Total params: 540,709\n",
      "Trainable params: 540,709\n",
      "Non-trainable params: 0\n",
      "_________________________________________________________________\n"
     ]
    }
   ],
   "source": [
    "# Build the CNN model\n",
    "embedding_dim = 50  # You can adjust this based on your dataset\n",
    "vocab_size = min(max_words, len(tokenizer.word_index) + 1)\n",
    "\n",
    "model = Sequential()\n",
    "model.add(Embedding(input_dim=vocab_size, output_dim=embedding_dim, input_length=max_len))\n",
    "model.add(Conv1D(128, 5, activation='relu'))\n",
    "model.add(GlobalMaxPooling1D())\n",
    "model.add(Dense(64, activation='relu'))\n",
    "model.add(Dense(5, activation='softmax'))\n",
    "\n",
    "model.compile(optimizer='adam', loss='sparse_categorical_crossentropy', metrics=['accuracy'])\n",
    "\n",
    "model.summary()"
   ]
  },
  {
   "cell_type": "code",
   "execution_count": 22,
   "metadata": {},
   "outputs": [
    {
     "name": "stdout",
     "output_type": "stream",
     "text": [
      "Epoch 1/20\n"
     ]
    },
    {
     "name": "stdout",
     "output_type": "stream",
     "text": [
      "11/11 [==============================] - 2s 70ms/step - loss: 1.6029 - accuracy: 0.2225 - val_loss: 1.6003 - val_accuracy: 0.2274\n",
      "Epoch 2/20\n",
      "11/11 [==============================] - 1s 52ms/step - loss: 1.5731 - accuracy: 0.3755 - val_loss: 1.5921 - val_accuracy: 0.2679\n",
      "Epoch 3/20\n",
      "11/11 [==============================] - 0s 45ms/step - loss: 1.5472 - accuracy: 0.2748 - val_loss: 1.5852 - val_accuracy: 0.2274\n",
      "Epoch 4/20\n",
      "11/11 [==============================] - 0s 41ms/step - loss: 1.5125 - accuracy: 0.4052 - val_loss: 1.5716 - val_accuracy: 0.3520\n",
      "Epoch 5/20\n",
      "11/11 [==============================] - 0s 42ms/step - loss: 1.4690 - accuracy: 0.3544 - val_loss: 1.5541 - val_accuracy: 0.2679\n",
      "Epoch 6/20\n",
      "11/11 [==============================] - 0s 42ms/step - loss: 1.4057 - accuracy: 0.5527 - val_loss: 1.5214 - val_accuracy: 0.4735\n",
      "Epoch 7/20\n",
      "11/11 [==============================] - 0s 45ms/step - loss: 1.3238 - accuracy: 0.6542 - val_loss: 1.4752 - val_accuracy: 0.3271\n",
      "Epoch 8/20\n",
      "11/11 [==============================] - 0s 41ms/step - loss: 1.2163 - accuracy: 0.6097 - val_loss: 1.3961 - val_accuracy: 0.4704\n",
      "Epoch 9/20\n",
      "11/11 [==============================] - 0s 40ms/step - loss: 1.0667 - accuracy: 0.8806 - val_loss: 1.2841 - val_accuracy: 0.6885\n",
      "Epoch 10/20\n",
      "11/11 [==============================] - 0s 41ms/step - loss: 0.8835 - accuracy: 0.9742 - val_loss: 1.1530 - val_accuracy: 0.6885\n",
      "Epoch 11/20\n",
      "11/11 [==============================] - 1s 46ms/step - loss: 0.6784 - accuracy: 0.9641 - val_loss: 0.9840 - val_accuracy: 0.7414\n",
      "Epoch 12/20\n",
      "11/11 [==============================] - 0s 43ms/step - loss: 0.4881 - accuracy: 0.9961 - val_loss: 0.8449 - val_accuracy: 0.8505\n",
      "Epoch 13/20\n",
      "11/11 [==============================] - 0s 43ms/step - loss: 0.3325 - accuracy: 0.9961 - val_loss: 0.7246 - val_accuracy: 0.8318\n",
      "Epoch 14/20\n",
      "11/11 [==============================] - 0s 43ms/step - loss: 0.2226 - accuracy: 0.9992 - val_loss: 0.6401 - val_accuracy: 0.8380\n",
      "Epoch 15/20\n",
      "11/11 [==============================] - 1s 48ms/step - loss: 0.1815 - accuracy: 1.0000 - val_loss: 0.6009 - val_accuracy: 0.8411\n",
      "Epoch 16/20\n",
      "11/11 [==============================] - 0s 43ms/step - loss: 0.1151 - accuracy: 0.9992 - val_loss: 0.5616 - val_accuracy: 0.8567\n",
      "Epoch 17/20\n",
      "11/11 [==============================] - 0s 42ms/step - loss: 0.0865 - accuracy: 1.0000 - val_loss: 0.5241 - val_accuracy: 0.8723\n",
      "Epoch 18/20\n",
      "11/11 [==============================] - 1s 49ms/step - loss: 0.0611 - accuracy: 1.0000 - val_loss: 0.4775 - val_accuracy: 0.8847\n",
      "Epoch 19/20\n",
      "11/11 [==============================] - 0s 45ms/step - loss: 0.0452 - accuracy: 1.0000 - val_loss: 0.4593 - val_accuracy: 0.8816\n",
      "Epoch 20/20\n",
      "11/11 [==============================] - 0s 43ms/step - loss: 0.0356 - accuracy: 1.0000 - val_loss: 0.4436 - val_accuracy: 0.8910\n"
     ]
    },
    {
     "data": {
      "text/plain": [
       "<keras.callbacks.History at 0x198ceba1c60>"
      ]
     },
     "execution_count": 22,
     "metadata": {},
     "output_type": "execute_result"
    }
   ],
   "source": [
    "# Train the model\n",
    "model.fit(X_train, y_train, epochs=20, batch_size=128, validation_split=0.2)"
   ]
  },
  {
   "cell_type": "code",
   "execution_count": 23,
   "metadata": {},
   "outputs": [
    {
     "name": "stdout",
     "output_type": "stream",
     "text": [
      "14/14 [==============================] - 0s 4ms/step - loss: 0.3985 - accuracy: 0.9034\n",
      "Test accuracy: 0.9033707976341248\n",
      "14/14 [==============================] - 0s 3ms/step\n",
      "              precision    recall  f1-score   support\n",
      "\n",
      "           0       0.90      0.92      0.91        84\n",
      "           1       0.88      0.99      0.93       102\n",
      "           2       0.91      0.85      0.88        80\n",
      "           3       0.96      0.88      0.92        77\n",
      "           4       0.90      0.86      0.88       102\n",
      "\n",
      "    accuracy                           0.90       445\n",
      "   macro avg       0.91      0.90      0.90       445\n",
      "weighted avg       0.90      0.90      0.90       445\n",
      "\n"
     ]
    }
   ],
   "source": [
    "# Evaluate the model on the test set\n",
    "loss, accuracy = model.evaluate(X_test, y_test)\n",
    "print(f'Test accuracy: {accuracy}')\n",
    "\n",
    "# Make predictions on new data\n",
    "predictions = model.predict(X_test)\n",
    "predicted_labels = np.argmax(predictions, axis=1)\n",
    "\n",
    "# Print classification report\n",
    "print(classification_report(y_test, predicted_labels))"
   ]
  }
 ],
 "metadata": {
  "kernelspec": {
   "display_name": "Python 3",
   "language": "python",
   "name": "python3"
  },
  "language_info": {
   "codemirror_mode": {
    "name": "ipython",
    "version": 3
   },
   "file_extension": ".py",
   "mimetype": "text/x-python",
   "name": "python",
   "nbconvert_exporter": "python",
   "pygments_lexer": "ipython3",
   "version": "3.10.11"
  }
 },
 "nbformat": 4,
 "nbformat_minor": 2
}
