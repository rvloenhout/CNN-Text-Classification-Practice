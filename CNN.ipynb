{
 "cells": [
  {
   "cell_type": "code",
   "execution_count": 33,
   "metadata": {},
   "outputs": [],
   "source": [
    "import pandas as pd \n",
    "import numpy as np \n",
    "import tensorflow as tf\n",
    "import seaborn as sns\n",
    "import matplotlib.pyplot as plt\n",
    "\n",
    "from keras.models import Sequential\n",
    "from keras.layers import Embedding, Conv1D, GlobalMaxPooling1D, Dense, Flatten, MaxPooling1D\n",
    "from keras.preprocessing.text import Tokenizer\n",
    "from keras.utils import pad_sequences\n",
    "from keras.callbacks import EarlyStopping\n",
    "from sklearn.model_selection import train_test_split\n",
    "from sklearn.preprocessing import LabelEncoder\n",
    "from sklearn.metrics import classification_report"
   ]
  },
  {
   "cell_type": "code",
   "execution_count": 34,
   "metadata": {},
   "outputs": [
    {
     "data": {
      "image/png": "[encoded data removed]",
      "text/plain": [
       "<Figure size 640x480 with 1 Axes>"
      ]
     },
     "metadata": {},
     "output_type": "display_data"
    }
   ],
   "source": [
    "text_df = pd.read_csv(\"./df_file.csv\")\n",
    "\n",
    "X = text_df['Text'].tolist()\n",
    "y = text_df['Label'].tolist()\n",
    "\n",
    "sns.countplot(x=y)\n",
    "plt.title('Label Distribution')\n",
    "plt.show()"
   ]
  },
  {
   "cell_type": "code",
   "execution_count": null,
   "metadata": {},
   "outputs": [],
   "source": [
    "X_train, X_test, y_train, y_test = train_test_split(X, y, test_size=0.2, random_state=42, stratify=y)"
   ]
  },
  {
   "cell_type": "code",
   "execution_count": 19,
   "metadata": {},
   "outputs": [],
   "source": [
    "# Tokenize the text (fit on training data only)\n",
    "max_words = 1000\n",
    "tokenizer = Tokenizer(num_words=max_words)\n",
    "tokenizer.fit_on_texts(X_train)\n",
    "\n",
    "# Convert text to sequences\n",
    "X_train = tokenizer.texts_to_sequences(X_train)\n",
    "X_test = tokenizer.texts_to_sequences(X_test)"
   ]
  },
  {
   "cell_type": "code",
   "execution_count": 20,
   "metadata": {},
   "outputs": [],
   "source": [
    "# Pad sequences to have consistent length\n",
    "max_len = 100  # You can adjust this based on your dataset\n",
    "X_train = pad_sequences(X_train, maxlen=max_len)\n",
    "X_test = pad_sequences(X_test, maxlen=max_len)"
   ]
  },
  {
   "cell_type": "code",
   "execution_count": 21,
   "metadata": {},
   "outputs": [],
   "source": [
    "# Convert labels to NumPy arrays\n",
    "y_train = np.array(y_train)\n",
    "y_test = np.array(y_test)"
   ]
  },
  {
   "cell_type": "code",
   "execution_count": 39,
   "metadata": {},
   "outputs": [
    {
     "data": {
      "text/plain": [
       "2.5"
      ]
     },
     "execution_count": 39,
     "metadata": {},
     "output_type": "execute_result"
    }
   ],
   "source": [
    "num_embeddings = min(500, 5/2)\n",
    "num_embeddings"
   ]
  },
  {
   "cell_type": "code",
   "execution_count": 43,
   "metadata": {},
   "outputs": [
    {
     "name": "stdout",
     "output_type": "stream",
     "text": [
      "Model: \"sequential_8\"\n",
      "_________________________________________________________________\n",
      " Layer (type)                Output Shape              Param #   \n",
      "=================================================================\n",
      " embedding_8 (Embedding)     (None, 100, 1000)         1000000   \n",
      "                                                                 \n",
      " conv1d_10 (Conv1D)          (None, 96, 128)           640128    \n",
      "                                                                 \n",
      " global_max_pooling1d_6 (Glo  (None, 128)              0         \n",
      " balMaxPooling1D)                                                \n",
      "                                                                 \n",
      " dense_18 (Dense)            (None, 64)                8256      \n",
      "                                                                 \n",
      " dense_19 (Dense)            (None, 32)                2080      \n",
      "                                                                 \n",
      " dense_20 (Dense)            (None, 5)                 165       \n",
      "                                                                 \n",
      "=================================================================\n",
      "Total params: 1,650,629\n",
      "Trainable params: 1,650,629\n",
      "Non-trainable params: 0\n",
      "_________________________________________________________________\n"
     ]
    }
   ],
   "source": [
    "# Build the CNN model\n",
    "embedding_dim = 1000 #50\n",
    "vocab_size = min(max_words, len(tokenizer.word_index) + 1)\n",
    "\n",
    "model = Sequential()\n",
    "model.add(Embedding(input_dim=vocab_size, output_dim=embedding_dim, input_length=max_len))\n",
    "model.add(Conv1D(128, 5, activation='relu'))\n",
    "model.add(GlobalMaxPooling1D())\n",
    "model.add(Dense(64, activation='relu'))\n",
    "model.add(Dense(32, activation='relu'))\n",
    "model.add(Dense(5, activation='softmax'))\n",
    "\n",
    "model.compile(optimizer='adam', loss='sparse_categorical_crossentropy', metrics=['accuracy'])\n",
    "\n",
    "model.summary()"
   ]
  },
  {
   "cell_type": "code",
   "execution_count": 44,
   "metadata": {},
   "outputs": [
    {
     "name": "stdout",
     "output_type": "stream",
     "text": [
      "Epoch 1/100\n",
      "26/26 [==============================] - 7s 234ms/step - loss: 1.5284 - accuracy: 0.3577 - val_loss: 1.3564 - val_accuracy: 0.4438\n",
      "Epoch 2/100\n",
      "26/26 [==============================] - 6s 241ms/step - loss: 1.1241 - accuracy: 0.5743 - val_loss: 0.9344 - val_accuracy: 0.7079\n",
      "Epoch 3/100\n",
      "26/26 [==============================] - 7s 257ms/step - loss: 0.5909 - accuracy: 0.8277 - val_loss: 0.5744 - val_accuracy: 0.8034\n",
      "Epoch 4/100\n",
      "26/26 [==============================] - 7s 263ms/step - loss: 0.1720 - accuracy: 0.9688 - val_loss: 0.4339 - val_accuracy: 0.8427\n",
      "Epoch 5/100\n",
      "26/26 [==============================] - 8s 312ms/step - loss: 0.0414 - accuracy: 0.9981 - val_loss: 0.3525 - val_accuracy: 0.8933\n",
      "Epoch 6/100\n",
      "26/26 [==============================] - 8s 309ms/step - loss: 0.0117 - accuracy: 1.0000 - val_loss: 0.3449 - val_accuracy: 0.9157\n",
      "Epoch 7/100\n",
      "26/26 [==============================] - 7s 270ms/step - loss: 0.0059 - accuracy: 1.0000 - val_loss: 0.3405 - val_accuracy: 0.9045\n",
      "Epoch 8/100\n",
      "26/26 [==============================] - 7s 260ms/step - loss: 0.0041 - accuracy: 1.0000 - val_loss: 0.3413 - val_accuracy: 0.9157\n",
      "Epoch 9/100\n",
      "26/26 [==============================] - 7s 256ms/step - loss: 0.0028 - accuracy: 1.0000 - val_loss: 0.3462 - val_accuracy: 0.9101\n",
      "Epoch 10/100\n",
      "26/26 [==============================] - 7s 254ms/step - loss: 0.0021 - accuracy: 1.0000 - val_loss: 0.3457 - val_accuracy: 0.9157\n",
      "Epoch 11/100\n",
      "26/26 [==============================] - 6s 247ms/step - loss: 0.0017 - accuracy: 1.0000 - val_loss: 0.3478 - val_accuracy: 0.9101\n",
      "Epoch 12/100\n",
      "26/26 [==============================] - 6s 250ms/step - loss: 0.0014 - accuracy: 1.0000 - val_loss: 0.3496 - val_accuracy: 0.9101\n",
      "Epoch 13/100\n",
      "26/26 [==============================] - 6s 249ms/step - loss: 0.0012 - accuracy: 1.0000 - val_loss: 0.3516 - val_accuracy: 0.9101\n",
      "Epoch 14/100\n",
      "26/26 [==============================] - 7s 269ms/step - loss: 9.8728e-04 - accuracy: 1.0000 - val_loss: 0.3525 - val_accuracy: 0.9101\n",
      "Epoch 15/100\n",
      "26/26 [==============================] - 6s 245ms/step - loss: 8.4394e-04 - accuracy: 1.0000 - val_loss: 0.3555 - val_accuracy: 0.9101\n",
      "Epoch 16/100\n",
      "26/26 [==============================] - 7s 260ms/step - loss: 7.3569e-04 - accuracy: 1.0000 - val_loss: 0.3586 - val_accuracy: 0.9101\n",
      "Epoch 17/100\n",
      "26/26 [==============================] - 7s 248ms/step - loss: 6.4449e-04 - accuracy: 1.0000 - val_loss: 0.3566 - val_accuracy: 0.9101\n",
      "Epoch 18/100\n",
      "26/26 [==============================] - 6s 226ms/step - loss: 5.7077e-04 - accuracy: 1.0000 - val_loss: 0.3599 - val_accuracy: 0.9101\n",
      "Epoch 19/100\n",
      "26/26 [==============================] - 6s 231ms/step - loss: 5.0951e-04 - accuracy: 1.0000 - val_loss: 0.3615 - val_accuracy: 0.9101\n",
      "Epoch 20/100\n",
      "26/26 [==============================] - 6s 226ms/step - loss: 4.5724e-04 - accuracy: 1.0000 - val_loss: 0.3623 - val_accuracy: 0.9101\n",
      "Epoch 21/100\n",
      "26/26 [==============================] - 6s 227ms/step - loss: 4.1331e-04 - accuracy: 1.0000 - val_loss: 0.3624 - val_accuracy: 0.9101\n",
      "Epoch 22/100\n",
      "26/26 [==============================] - 7s 256ms/step - loss: 3.7480e-04 - accuracy: 1.0000 - val_loss: 0.3642 - val_accuracy: 0.9101\n",
      "Epoch 23/100\n",
      "26/26 [==============================] - 8s 304ms/step - loss: 3.4166e-04 - accuracy: 1.0000 - val_loss: 0.3655 - val_accuracy: 0.9101\n",
      "Epoch 24/100\n",
      "26/26 [==============================] - 8s 300ms/step - loss: 3.1296e-04 - accuracy: 1.0000 - val_loss: 0.3658 - val_accuracy: 0.9101\n",
      "Epoch 25/100\n",
      "26/26 [==============================] - 8s 295ms/step - loss: 2.9475e-04 - accuracy: 1.0000 - val_loss: 0.3605 - val_accuracy: 0.9101\n",
      "Epoch 26/100\n",
      "26/26 [==============================] - 8s 295ms/step - loss: 2.6535e-04 - accuracy: 1.0000 - val_loss: 0.3709 - val_accuracy: 0.9157\n",
      "Epoch 27/100\n",
      "26/26 [==============================] - 8s 297ms/step - loss: 2.4232e-04 - accuracy: 1.0000 - val_loss: 0.3720 - val_accuracy: 0.9045\n",
      "Epoch 28/100\n",
      "26/26 [==============================] - 8s 297ms/step - loss: 2.2620e-04 - accuracy: 1.0000 - val_loss: 0.3752 - val_accuracy: 0.8989\n",
      "Epoch 29/100\n",
      "26/26 [==============================] - 8s 300ms/step - loss: 2.0748e-04 - accuracy: 1.0000 - val_loss: 0.3736 - val_accuracy: 0.9045\n",
      "Epoch 30/100\n",
      "26/26 [==============================] - 8s 298ms/step - loss: 1.9303e-04 - accuracy: 1.0000 - val_loss: 0.3742 - val_accuracy: 0.9101\n",
      "Epoch 31/100\n",
      "26/26 [==============================] - 6s 227ms/step - loss: 1.8007e-04 - accuracy: 1.0000 - val_loss: 0.3745 - val_accuracy: 0.9101\n",
      "Epoch 32/100\n",
      "26/26 [==============================] - 6s 227ms/step - loss: 1.6842e-04 - accuracy: 1.0000 - val_loss: 0.3749 - val_accuracy: 0.9045\n",
      "Epoch 33/100\n",
      "26/26 [==============================] - 6s 225ms/step - loss: 1.5808e-04 - accuracy: 1.0000 - val_loss: 0.3763 - val_accuracy: 0.8989\n",
      "Epoch 34/100\n",
      "26/26 [==============================] - 6s 230ms/step - loss: 1.4879e-04 - accuracy: 1.0000 - val_loss: 0.3784 - val_accuracy: 0.9101\n",
      "Epoch 35/100\n",
      "26/26 [==============================] - 6s 223ms/step - loss: 1.3973e-04 - accuracy: 1.0000 - val_loss: 0.3794 - val_accuracy: 0.9045\n",
      "Epoch 36/100\n",
      "26/26 [==============================] - 6s 226ms/step - loss: 1.3175e-04 - accuracy: 1.0000 - val_loss: 0.3798 - val_accuracy: 0.9101\n",
      "Epoch 37/100\n",
      "26/26 [==============================] - 6s 248ms/step - loss: 1.2429e-04 - accuracy: 1.0000 - val_loss: 0.3798 - val_accuracy: 0.9101\n",
      "Epoch 38/100\n",
      "26/26 [==============================] - 8s 298ms/step - loss: 1.1784e-04 - accuracy: 1.0000 - val_loss: 0.3800 - val_accuracy: 0.9045\n",
      "Epoch 39/100\n",
      "26/26 [==============================] - 8s 299ms/step - loss: 1.1131e-04 - accuracy: 1.0000 - val_loss: 0.3777 - val_accuracy: 0.9101\n",
      "Epoch 40/100\n",
      "26/26 [==============================] - 8s 298ms/step - loss: 1.0565e-04 - accuracy: 1.0000 - val_loss: 0.3801 - val_accuracy: 0.9045\n",
      "Epoch 41/100\n",
      "26/26 [==============================] - 8s 297ms/step - loss: 9.9924e-05 - accuracy: 1.0000 - val_loss: 0.3826 - val_accuracy: 0.9101\n",
      "Epoch 42/100\n",
      "26/26 [==============================] - 8s 297ms/step - loss: 9.4847e-05 - accuracy: 1.0000 - val_loss: 0.3857 - val_accuracy: 0.9101\n",
      "Epoch 43/100\n",
      "26/26 [==============================] - 8s 299ms/step - loss: 9.0301e-05 - accuracy: 1.0000 - val_loss: 0.3856 - val_accuracy: 0.9101\n",
      "Epoch 44/100\n",
      "26/26 [==============================] - 8s 305ms/step - loss: 8.5885e-05 - accuracy: 1.0000 - val_loss: 0.3856 - val_accuracy: 0.9045\n",
      "Epoch 45/100\n",
      "26/26 [==============================] - 8s 298ms/step - loss: 8.1920e-05 - accuracy: 1.0000 - val_loss: 0.3858 - val_accuracy: 0.9045\n",
      "Epoch 46/100\n",
      "26/26 [==============================] - 8s 300ms/step - loss: 7.8507e-05 - accuracy: 1.0000 - val_loss: 0.3850 - val_accuracy: 0.9045\n",
      "Epoch 47/100\n",
      "26/26 [==============================] - 8s 302ms/step - loss: 7.5500e-05 - accuracy: 1.0000 - val_loss: 0.3817 - val_accuracy: 0.9045\n",
      "Epoch 48/100\n",
      "26/26 [==============================] - 8s 297ms/step - loss: 7.1612e-05 - accuracy: 1.0000 - val_loss: 0.3871 - val_accuracy: 0.9045\n",
      "Epoch 49/100\n",
      "26/26 [==============================] - 8s 306ms/step - loss: 6.8279e-05 - accuracy: 1.0000 - val_loss: 0.3888 - val_accuracy: 0.9101\n",
      "Epoch 50/100\n",
      "26/26 [==============================] - 8s 300ms/step - loss: 6.5346e-05 - accuracy: 1.0000 - val_loss: 0.3886 - val_accuracy: 0.9101\n",
      "Epoch 51/100\n",
      "26/26 [==============================] - 8s 303ms/step - loss: 6.2371e-05 - accuracy: 1.0000 - val_loss: 0.3915 - val_accuracy: 0.9101\n",
      "Epoch 52/100\n",
      "26/26 [==============================] - 8s 300ms/step - loss: 5.9671e-05 - accuracy: 1.0000 - val_loss: 0.3925 - val_accuracy: 0.8989\n",
      "Epoch 53/100\n",
      "26/26 [==============================] - 8s 299ms/step - loss: 5.7198e-05 - accuracy: 1.0000 - val_loss: 0.3928 - val_accuracy: 0.9045\n",
      "Epoch 54/100\n",
      "26/26 [==============================] - 6s 233ms/step - loss: 5.4899e-05 - accuracy: 1.0000 - val_loss: 0.3937 - val_accuracy: 0.9045\n",
      "Epoch 55/100\n",
      "26/26 [==============================] - 6s 232ms/step - loss: 5.2937e-05 - accuracy: 1.0000 - val_loss: 0.3953 - val_accuracy: 0.9045\n",
      "Epoch 56/100\n",
      "26/26 [==============================] - 6s 228ms/step - loss: 5.0796e-05 - accuracy: 1.0000 - val_loss: 0.3950 - val_accuracy: 0.9045\n",
      "Epoch 57/100\n",
      "26/26 [==============================] - 6s 231ms/step - loss: 4.8774e-05 - accuracy: 1.0000 - val_loss: 0.3957 - val_accuracy: 0.9045\n",
      "Epoch 58/100\n",
      "26/26 [==============================] - 7s 280ms/step - loss: 4.6998e-05 - accuracy: 1.0000 - val_loss: 0.3964 - val_accuracy: 0.9045\n",
      "Epoch 59/100\n",
      "26/26 [==============================] - 8s 307ms/step - loss: 4.5260e-05 - accuracy: 1.0000 - val_loss: 0.3964 - val_accuracy: 0.9045\n",
      "Epoch 60/100\n",
      "26/26 [==============================] - 8s 301ms/step - loss: 4.3584e-05 - accuracy: 1.0000 - val_loss: 0.3972 - val_accuracy: 0.9045\n",
      "Epoch 61/100\n",
      "26/26 [==============================] - 8s 302ms/step - loss: 4.2029e-05 - accuracy: 1.0000 - val_loss: 0.3988 - val_accuracy: 0.9045\n",
      "Epoch 62/100\n",
      "26/26 [==============================] - 8s 295ms/step - loss: 4.0529e-05 - accuracy: 1.0000 - val_loss: 0.3988 - val_accuracy: 0.9045\n",
      "Epoch 63/100\n",
      "26/26 [==============================] - 8s 300ms/step - loss: 3.9190e-05 - accuracy: 1.0000 - val_loss: 0.3992 - val_accuracy: 0.9045\n",
      "Epoch 64/100\n",
      "26/26 [==============================] - 8s 295ms/step - loss: 3.7775e-05 - accuracy: 1.0000 - val_loss: 0.3987 - val_accuracy: 0.9045\n",
      "Epoch 65/100\n",
      "26/26 [==============================] - 8s 300ms/step - loss: 3.6561e-05 - accuracy: 1.0000 - val_loss: 0.3982 - val_accuracy: 0.9045\n",
      "Epoch 66/100\n",
      "26/26 [==============================] - 8s 297ms/step - loss: 3.5251e-05 - accuracy: 1.0000 - val_loss: 0.3990 - val_accuracy: 0.9045\n",
      "Epoch 67/100\n",
      "26/26 [==============================] - 8s 300ms/step - loss: 3.4026e-05 - accuracy: 1.0000 - val_loss: 0.3999 - val_accuracy: 0.9045\n",
      "Epoch 68/100\n",
      "26/26 [==============================] - 8s 295ms/step - loss: 3.2932e-05 - accuracy: 1.0000 - val_loss: 0.4008 - val_accuracy: 0.9045\n",
      "Epoch 69/100\n",
      "26/26 [==============================] - 8s 296ms/step - loss: 3.1902e-05 - accuracy: 1.0000 - val_loss: 0.4020 - val_accuracy: 0.9045\n",
      "Epoch 70/100\n",
      "26/26 [==============================] - 8s 298ms/step - loss: 3.0890e-05 - accuracy: 1.0000 - val_loss: 0.4017 - val_accuracy: 0.9045\n",
      "Epoch 71/100\n",
      "26/26 [==============================] - 8s 299ms/step - loss: 2.9928e-05 - accuracy: 1.0000 - val_loss: 0.4037 - val_accuracy: 0.9045\n",
      "Epoch 72/100\n",
      "26/26 [==============================] - 8s 296ms/step - loss: 2.9011e-05 - accuracy: 1.0000 - val_loss: 0.4037 - val_accuracy: 0.9045\n",
      "Epoch 73/100\n",
      "26/26 [==============================] - 8s 302ms/step - loss: 2.8141e-05 - accuracy: 1.0000 - val_loss: 0.4044 - val_accuracy: 0.9045\n",
      "Epoch 74/100\n",
      "26/26 [==============================] - 8s 296ms/step - loss: 2.7282e-05 - accuracy: 1.0000 - val_loss: 0.4047 - val_accuracy: 0.9045\n",
      "Epoch 75/100\n",
      "26/26 [==============================] - 8s 298ms/step - loss: 2.6451e-05 - accuracy: 1.0000 - val_loss: 0.4045 - val_accuracy: 0.9045\n",
      "Epoch 76/100\n",
      "26/26 [==============================] - 8s 298ms/step - loss: 2.5677e-05 - accuracy: 1.0000 - val_loss: 0.4036 - val_accuracy: 0.9045\n",
      "Epoch 77/100\n",
      "26/26 [==============================] - 8s 301ms/step - loss: 2.4927e-05 - accuracy: 1.0000 - val_loss: 0.4045 - val_accuracy: 0.9045\n",
      "Epoch 78/100\n",
      "26/26 [==============================] - 8s 301ms/step - loss: 2.4175e-05 - accuracy: 1.0000 - val_loss: 0.4051 - val_accuracy: 0.9045\n",
      "Epoch 79/100\n",
      "26/26 [==============================] - 8s 300ms/step - loss: 2.3478e-05 - accuracy: 1.0000 - val_loss: 0.4062 - val_accuracy: 0.9045\n",
      "Epoch 80/100\n",
      "26/26 [==============================] - 8s 301ms/step - loss: 2.2778e-05 - accuracy: 1.0000 - val_loss: 0.4066 - val_accuracy: 0.9045\n",
      "Epoch 81/100\n",
      "26/26 [==============================] - 8s 300ms/step - loss: 2.2119e-05 - accuracy: 1.0000 - val_loss: 0.4057 - val_accuracy: 0.9045\n",
      "Epoch 82/100\n",
      "26/26 [==============================] - 8s 300ms/step - loss: 2.1506e-05 - accuracy: 1.0000 - val_loss: 0.4061 - val_accuracy: 0.9045\n",
      "Epoch 83/100\n",
      "26/26 [==============================] - 8s 300ms/step - loss: 2.0925e-05 - accuracy: 1.0000 - val_loss: 0.4065 - val_accuracy: 0.9045\n",
      "Epoch 84/100\n",
      "26/26 [==============================] - 8s 300ms/step - loss: 2.0351e-05 - accuracy: 1.0000 - val_loss: 0.4076 - val_accuracy: 0.9045\n",
      "Epoch 85/100\n",
      "26/26 [==============================] - 8s 295ms/step - loss: 1.9795e-05 - accuracy: 1.0000 - val_loss: 0.4085 - val_accuracy: 0.9045\n",
      "Epoch 86/100\n",
      "26/26 [==============================] - 8s 294ms/step - loss: 1.9268e-05 - accuracy: 1.0000 - val_loss: 0.4092 - val_accuracy: 0.9045\n",
      "Epoch 87/100\n",
      "26/26 [==============================] - 8s 301ms/step - loss: 1.8757e-05 - accuracy: 1.0000 - val_loss: 0.4094 - val_accuracy: 0.9045\n",
      "Epoch 88/100\n",
      "26/26 [==============================] - 8s 308ms/step - loss: 1.8266e-05 - accuracy: 1.0000 - val_loss: 0.4101 - val_accuracy: 0.9045\n",
      "Epoch 89/100\n",
      "26/26 [==============================] - 8s 298ms/step - loss: 1.7783e-05 - accuracy: 1.0000 - val_loss: 0.4104 - val_accuracy: 0.9045\n",
      "Epoch 90/100\n",
      "26/26 [==============================] - 8s 292ms/step - loss: 1.7326e-05 - accuracy: 1.0000 - val_loss: 0.4104 - val_accuracy: 0.9045\n",
      "Epoch 91/100\n",
      "26/26 [==============================] - 8s 308ms/step - loss: 1.6885e-05 - accuracy: 1.0000 - val_loss: 0.4112 - val_accuracy: 0.9045\n",
      "Epoch 92/100\n",
      "26/26 [==============================] - 8s 296ms/step - loss: 1.6453e-05 - accuracy: 1.0000 - val_loss: 0.4117 - val_accuracy: 0.9045\n",
      "Epoch 93/100\n",
      "26/26 [==============================] - 8s 303ms/step - loss: 1.6039e-05 - accuracy: 1.0000 - val_loss: 0.4141 - val_accuracy: 0.9045\n",
      "Epoch 94/100\n",
      "26/26 [==============================] - 8s 300ms/step - loss: 1.5634e-05 - accuracy: 1.0000 - val_loss: 0.4135 - val_accuracy: 0.9045\n",
      "Epoch 95/100\n",
      "26/26 [==============================] - 8s 303ms/step - loss: 1.5242e-05 - accuracy: 1.0000 - val_loss: 0.4135 - val_accuracy: 0.9045\n",
      "Epoch 96/100\n",
      "26/26 [==============================] - 8s 296ms/step - loss: 1.4845e-05 - accuracy: 1.0000 - val_loss: 0.4137 - val_accuracy: 0.9045\n",
      "Epoch 97/100\n",
      "26/26 [==============================] - 8s 296ms/step - loss: 1.4476e-05 - accuracy: 1.0000 - val_loss: 0.4129 - val_accuracy: 0.9045\n",
      "Epoch 98/100\n",
      "26/26 [==============================] - 7s 262ms/step - loss: 1.4117e-05 - accuracy: 1.0000 - val_loss: 0.4135 - val_accuracy: 0.9045\n",
      "Epoch 99/100\n",
      "26/26 [==============================] - 6s 225ms/step - loss: 1.3777e-05 - accuracy: 1.0000 - val_loss: 0.4134 - val_accuracy: 0.9045\n",
      "Epoch 100/100\n",
      "26/26 [==============================] - 6s 223ms/step - loss: 1.3428e-05 - accuracy: 1.0000 - val_loss: 0.4143 - val_accuracy: 0.9045\n"
     ]
    },
    {
     "data": {
      "text/plain": [
       "<keras.callbacks.History at 0x15625859480>"
      ]
     },
     "execution_count": 44,
     "metadata": {},
     "output_type": "execute_result"
    }
   ],
   "source": [
    "# Train the model\n",
    "callback = EarlyStopping(monitor='loss', patience=5)\n",
    "model.fit(X_train, y_train, epochs=100, batch_size=64, validation_split=0.1, callbacks=[callback])"
   ]
  },
  {
   "cell_type": "code",
   "execution_count": 45,
   "metadata": {},
   "outputs": [
    {
     "name": "stdout",
     "output_type": "stream",
     "text": [
      "14/14 [==============================] - 0s 31ms/step - loss: 0.3731 - accuracy: 0.9079\n",
      "Test accuracy: 0.9078651666641235\n",
      "14/14 [==============================] - 1s 31ms/step\n",
      "              precision    recall  f1-score   support\n",
      "\n",
      "           0       0.89      0.89      0.89        84\n",
      "           1       0.93      0.99      0.96       102\n",
      "           2       0.87      0.89      0.88        80\n",
      "           3       0.97      0.84      0.90        77\n",
      "           4       0.89      0.90      0.90       102\n",
      "\n",
      "    accuracy                           0.91       445\n",
      "   macro avg       0.91      0.90      0.91       445\n",
      "weighted avg       0.91      0.91      0.91       445\n",
      "\n"
     ]
    }
   ],
   "source": [
    "# Evaluate the model on the test set\n",
    "loss, accuracy = model.evaluate(X_test, y_test)\n",
    "print(f'Test accuracy: {accuracy}')\n",
    "\n",
    "# Make predictions on new data\n",
    "predictions = model.predict(X_test)\n",
    "predicted_labels = np.argmax(predictions, axis=1)\n",
    "\n",
    "# Print classification report\n",
    "print(classification_report(y_test, predicted_labels))"
   ]
  }
 ],
 "metadata": {
  "kernelspec": {
   "display_name": "Python 3",
   "language": "python",
   "name": "python3"
  },
  "language_info": {
   "codemirror_mode": {
    "name": "ipython",
    "version": 3
   },
   "file_extension": ".py",
   "mimetype": "text/x-python",
   "name": "python",
   "nbconvert_exporter": "python",
   "pygments_lexer": "ipython3",
   "version": "3.10.11"
  }
 },
 "nbformat": 4,
 "nbformat_minor": 2
}
